{
 "cells": [
  {
   "cell_type": "markdown",
   "metadata": {
    "id": "XuXWJLEm2UWS"
   },
   "source": [
    "# **CS224W - Colab 2**"
   ]
  },
  {
   "cell_type": "markdown",
   "metadata": {
    "id": "8gzsP50bF6Gb"
   },
   "source": [
    "In this Colab, we will construct our own graph neural network by using PyTorch Geometric (PyG) and apply the model on two of Open Graph Benchmark (OGB) datasets. Those two datasets are used to benchmark the model performance on two different graph-related tasks. One is node property prediction, predicting properties of single nodes. Another one is graph property prediction, predicting the entire graphs or subgraphs.\n",
    "\n",
    "At first, we will learn how PyTorch Geometric stores the graphs in PyTorch tensor.\n",
    "\n",
    "We will then load and take a quick look on one of the Open Graph Benchmark (OGB) datasets by using the `ogb` package. OGB is a collection of realistic, large-scale, and diverse benchmark datasets for machine learning on graphs. The `ogb` package not only provides the data loader of the dataset but also the evaluator.\n",
    "\n",
    "At last, we will build our own graph neural networks by using PyTorch Geometric. And then apply and evaluate the models on node property prediction and grpah property prediction tasks.\n",
    "\n",
    "**Note**: Make sure to **sequentially run all the cells in each section**, so that the intermediate variables / packages will carry over to the next cell\n",
    "\n",
    "Have fun on Colab 2 :)"
   ]
  },
  {
   "cell_type": "markdown",
   "metadata": {
    "id": "ZGKqVEbbMEzf"
   },
   "source": [
    "# Device\n",
    "You might need to use GPU for this Colab.\n",
    "\n",
    "Please click `Runtime` and then `Change runtime type`. Then set the `hardware accelerator` to **GPU**."
   ]
  },
  {
   "cell_type": "markdown",
   "metadata": {
    "id": "B0NiFL6OLpaJ"
   },
   "source": [
    "# Installation"
   ]
  },
  {
   "cell_type": "code",
   "execution_count": null,
   "metadata": {
    "id": "By2oyBw7Lrh5"
   },
   "outputs": [
    {
     "name": "stdout",
     "output_type": "stream",
     "text": [
      "WARNING: pip is being invoked by an old script wrapper. This will fail in a future version of pip.\n",
      "Please see https://github.com/pypa/pip/issues/5599 for advice on fixing the underlying issue.\n",
      "To avoid this problem you can invoke Python with '-m pip' instead of running pip directly.\n",
      "^C\n",
      "\u001b[31mERROR: Operation cancelled by user\u001b[0m\n",
      "WARNING: pip is being invoked by an old script wrapper. This will fail in a future version of pip.\n",
      "Please see https://github.com/pypa/pip/issues/5599 for advice on fixing the underlying issue.\n",
      "To avoid this problem you can invoke Python with '-m pip' instead of running pip directly.\n"
     ]
    }
   ],
   "source": [
    "!pip3 install -q torch-scatter -f https://pytorch-geometric.com/whl/torch-1.7.0+cu102.html\n",
    "!pip3 install -q torch-sparse -f https://pytorch-geometric.com/whl/torch-1.7.0+cu102.html\n",
    "!pip3 install -q torch-geometric\n",
    "!pip3 install ogb\n",
    "# !pip install -q torch-scatter -f https://pytorch-geometric.com/whl/torch-1.7.0+cpu.html\n",
    "# !pip install -q torch-sparse -f https://pytorch-geometric.com/whl/torch-1.7.0+cpu.html"
   ]
  },
  {
   "cell_type": "code",
   "execution_count": 4,
   "metadata": {},
   "outputs": [],
   "source": [
    "import torch_scatter"
   ]
  },
  {
   "cell_type": "code",
   "execution_count": null,
   "metadata": {
    "colab": {
     "base_uri": "https://localhost:8080/"
    },
    "id": "9ptSpkJREQD9",
    "outputId": "044f9b86-065c-4af9-aa18-e8301e513f69"
   },
   "outputs": [
    {
     "name": "stdout",
     "output_type": "stream",
     "text": [
      "\u001b[K     |████████████████████████████████| 28.5 MB 54 kB/s \n",
      "\u001b[K     |████████████████████████████████| 15.7 MB 202 kB/s \n",
      "\u001b[31mERROR: pip's dependency resolver does not currently take into account all the packages that are installed. This behaviour is the source of the following dependency conflicts.\n",
      "tensorflow 2.6.0 requires numpy~=1.19.2, but you have numpy 1.21.2 which is incompatible.\n",
      "datascience 0.10.6 requires folium==0.2.1, but you have folium 0.8.3 which is incompatible.\n",
      "albumentations 0.1.12 requires imgaug<0.2.7,>=0.2.5, but you have imgaug 0.2.9 which is incompatible.\u001b[0m\n",
      "\u001b[?25h"
     ]
    }
   ],
   "source": [
    "!pip install --upgrade --force-reinstall -q torch-sparse -f https://pytorch-geometric.com/whl/torch-1.7.0+cu102.html"
   ]
  },
  {
   "cell_type": "markdown",
   "metadata": {
    "id": "Nwwq0nSdmsOL"
   },
   "source": [
    "# 1 PyTorch Geometric (Datasets and Data)\n"
   ]
  },
  {
   "cell_type": "markdown",
   "metadata": {
    "id": "Sf7vUmdNKCjA"
   },
   "source": [
    "PyTorch Geometric generally has two classes for storing or transforming the graphs into tensor format. One is the `torch_geometric.datasets`, which contains a variety of common graph datasets. Another one is `torch_geometric.data` that provides the data handling of graphs in PyTorch tensors.\n",
    "\n",
    "In this section, we will learn how to use the `torch_geometric.datasets` and `torch_geometric.data`."
   ]
  },
  {
   "cell_type": "markdown",
   "metadata": {
    "id": "ic-o1P3r6hr2"
   },
   "source": [
    "## PyG Datasets\n",
    "\n",
    "The `torch_geometric.datasets` has many common graph datasets. Here we will explore the usage by using one example dataset."
   ]
  },
  {
   "cell_type": "code",
   "execution_count": 5,
   "metadata": {},
   "outputs": [],
   "source": [
    "import torch_geometric"
   ]
  },
  {
   "cell_type": "code",
   "execution_count": 6,
   "metadata": {},
   "outputs": [],
   "source": [
    "from torch_geometric.datasets import TUDataset"
   ]
  },
  {
   "cell_type": "code",
   "execution_count": 7,
   "metadata": {
    "colab": {
     "base_uri": "https://localhost:8080/",
     "height": 374
    },
    "id": "zT5qca3x6XpG",
    "outputId": "7222568a-5624-4e6b-defa-79665ed9c30e"
   },
   "outputs": [
    {
     "name": "stderr",
     "output_type": "stream",
     "text": [
      "Downloading https://www.chrsmrrs.com/graphkerneldatasets/ENZYMES.zip\n",
      "Extracting enzymes/ENZYMES/ENZYMES.zip\n",
      "Processing...\n"
     ]
    },
    {
     "name": "stdout",
     "output_type": "stream",
     "text": [
      "ENZYMES(600)\n"
     ]
    },
    {
     "name": "stderr",
     "output_type": "stream",
     "text": [
      "Done!\n"
     ]
    }
   ],
   "source": [
    "from torch_geometric.datasets import TUDataset\n",
    "\n",
    "root = './enzymes'\n",
    "name = 'ENZYMES'\n",
    "\n",
    "# The ENZYMES dataset\n",
    "pyg_dataset= TUDataset('./enzymes', 'ENZYMES')\n",
    "\n",
    "# You can find that there are 600 graphs in this dataset\n",
    "print(pyg_dataset)"
   ]
  },
  {
   "cell_type": "markdown",
   "metadata": {
    "id": "NLm5vVYMAP2x"
   },
   "source": [
    "## Question 1: What is the number of classes and number of features in the ENZYMES dataset? (5 points)"
   ]
  },
  {
   "cell_type": "code",
   "execution_count": 10,
   "metadata": {
    "id": "8iF_Kyqr_JbY"
   },
   "outputs": [
    {
     "name": "stdout",
     "output_type": "stream",
     "text": [
      "ENZYMES dataset has 6 classes\n",
      "ENZYMES dataset has 3 features\n"
     ]
    }
   ],
   "source": [
    "def get_num_classes(pyg_dataset):\n",
    "  # TODO: Implement this function that takes a PyG dataset object\n",
    "  # and return the number of classes for that dataset.\n",
    "\n",
    "  #num_classes = 0\n",
    "\n",
    "  ############# Your code here ############\n",
    "  ## (~1 line of code)\n",
    "  ## Note\n",
    "  ## 1. Colab autocomplete functionality might be useful.\n",
    "  num_classes = pyg_dataset.num_classes\n",
    "  #########################################\n",
    "\n",
    "  return num_classes\n",
    "\n",
    "def get_num_features(pyg_dataset):\n",
    "  # TODO: Implement this function that takes a PyG dataset object\n",
    "  # and return the number of features for that dataset.\n",
    "\n",
    "  #num_features = 0\n",
    "\n",
    "  ############# Your code here ############\n",
    "  ## (~1 line of code)\n",
    "  num_features = pyg_dataset.num_features #num_node_attributes()\n",
    "  ## Note\n",
    "  ## 1. Colab autocomplete functionality might be useful.\n",
    "\n",
    "  #########################################\n",
    "\n",
    "  return num_features\n",
    "\n",
    "# You may find that some information need to be stored in the dataset level,\n",
    "# specifically if there are multiple graphs in the dataset\n",
    "num_classes = get_num_classes(pyg_dataset)\n",
    "num_features = get_num_features(pyg_dataset)\n",
    "print(\"{} dataset has {} classes\".format(name, num_classes))\n",
    "print(\"{} dataset has {} features\".format(name, num_features))"
   ]
  },
  {
   "cell_type": "markdown",
   "metadata": {
    "id": "rwKbzhHUAckZ"
   },
   "source": [
    "## PyG Data\n",
    "\n",
    "Each PyG dataset usually stores a list of `torch_geometric.data.Data` objects. Each `torch_geometric.data.Data` object usually represents a graph. You can easily get the `Data` object by indexing on the dataset.\n",
    "\n",
    "For more information such as what will be stored in `Data` object, please refer to the [documentation](https://pytorch-geometric.readthedocs.io/en/latest/modules/data.html#torch_geometric.data.Data)."
   ]
  },
  {
   "cell_type": "markdown",
   "metadata": {
    "id": "7sCV3xJWCddX"
   },
   "source": [
    "## Question 2: What is the label of the graph (index 100 in the ENZYMES dataset)? (5 points)"
   ]
  },
  {
   "cell_type": "code",
   "execution_count": 12,
   "metadata": {
    "id": "LIis9oTZAfs3"
   },
   "outputs": [
    {
     "name": "stdout",
     "output_type": "stream",
     "text": [
      "Data(edge_index=[2, 168], x=[37, 3], y=[1])\n",
      "Graph with index 100 has label tensor([4])\n"
     ]
    }
   ],
   "source": [
    "def get_graph_class(pyg_dataset, idx):\n",
    "    # TODO: Implement this function that takes a PyG dataset object,\n",
    "    # the index of the graph in dataset, and returns the class/label \n",
    "    # of the graph (in integer).\n",
    "\n",
    "    #label = -1\n",
    "\n",
    "    ############# Your code here ############\n",
    "    ## (~1 line of code)\n",
    "    label = pyg_dataset[idx].y\n",
    "    #########################################\n",
    "\n",
    "    return label\n",
    "\n",
    "# Here pyg_dataset is a dataset for graph classification\n",
    "graph_0 = pyg_dataset[0]\n",
    "print(graph_0)\n",
    "idx = 100\n",
    "label = get_graph_class(pyg_dataset, idx)\n",
    "print('Graph with index {} has label {}'.format(idx, label))"
   ]
  },
  {
   "cell_type": "markdown",
   "metadata": {
    "id": "fKhcVeAhCwoY"
   },
   "source": [
    "## Question 3: What is the number of edges for the graph (index 200 in the ENZYMES dataset)? (5 points)"
   ]
  },
  {
   "cell_type": "code",
   "execution_count": 13,
   "metadata": {
    "id": "f5m2DOfhBtWv"
   },
   "outputs": [
    {
     "name": "stdout",
     "output_type": "stream",
     "text": [
      "Graph with index 200 has 53 edges\n"
     ]
    }
   ],
   "source": [
    "def get_graph_num_edges(pyg_dataset, idx):\n",
    "    # TODO: Implement this function that takes a PyG dataset object,\n",
    "    # the index of the graph in dataset, and returns the number of \n",
    "    # edges in the graph (in integer). You should not count an edge \n",
    "    # twice if the graph is undirected. For example, in an undirected \n",
    "    # graph G, if two nodes v and u are connected by an edge, this edge\n",
    "    # should only be counted once.\n",
    "\n",
    "    num_edges = 0\n",
    "\n",
    "    ############# Your code here ############\n",
    "    ## Note:\n",
    "    ## 1. You can't return the data.num_edges directly\n",
    "    ## 2. We assume the graph is undirected\n",
    "    ## (~4 lines of code)\n",
    "    num_edges = pyg_dataset[idx].num_edges // 2\n",
    "    #########################################\n",
    "\n",
    "    return num_edges\n",
    "\n",
    "idx = 200\n",
    "num_edges = get_graph_num_edges(pyg_dataset, idx)\n",
    "print('Graph with index {} has {} edges'.format(idx, num_edges))"
   ]
  },
  {
   "cell_type": "markdown",
   "metadata": {
    "id": "AXa7yIG4E0Fp"
   },
   "source": [
    "# 2 Open Graph Benchmark (OGB)\n",
    "\n",
    "The Open Graph Benchmark (OGB) is a collection of realistic, large-scale, and diverse benchmark datasets for machine learning on graphs. Its datasets are automatically downloaded, processed, and split using the OGB Data Loader. The model performance can also be evaluated by using the OGB Evaluator in a unified manner."
   ]
  },
  {
   "cell_type": "markdown",
   "metadata": {
    "id": "HnazPGGAJAZN"
   },
   "source": [
    "## Dataset and Data\n",
    "\n",
    "OGB also supports the PyG dataset and data. Here we take a look on the `ogbn-arxiv` dataset."
   ]
  },
  {
   "cell_type": "code",
   "execution_count": 15,
   "metadata": {
    "id": "Gpc6bTm3GF02"
   },
   "outputs": [
    {
     "name": "stdout",
     "output_type": "stream",
     "text": [
      "Downloading http://snap.stanford.edu/ogb/data/nodeproppred/arxiv.zip\n"
     ]
    },
    {
     "name": "stderr",
     "output_type": "stream",
     "text": [
      "Downloaded 0.08 GB: 100%|██████████| 81/81 [00:19<00:00,  4.19it/s]\n",
      "Processing...\n"
     ]
    },
    {
     "name": "stdout",
     "output_type": "stream",
     "text": [
      "Extracting dataset/arxiv.zip\n",
      "Loading necessary files...\n",
      "This might take a while.\n",
      "Processing graphs...\n"
     ]
    },
    {
     "name": "stderr",
     "output_type": "stream",
     "text": [
      "100%|██████████| 1/1 [00:00<00:00, 22919.69it/s]\n"
     ]
    },
    {
     "name": "stdout",
     "output_type": "stream",
     "text": [
      "Converting graphs into PyG objects...\n"
     ]
    },
    {
     "name": "stderr",
     "output_type": "stream",
     "text": [
      "100%|██████████| 1/1 [00:00<00:00, 11554.56it/s]"
     ]
    },
    {
     "name": "stdout",
     "output_type": "stream",
     "text": [
      "Saving...\n",
      "The ogbn-arxiv dataset has 1 graph\n"
     ]
    },
    {
     "name": "stderr",
     "output_type": "stream",
     "text": [
      "\n",
      "Done!\n"
     ]
    },
    {
     "name": "stdout",
     "output_type": "stream",
     "text": [
      "Data(x=[169343, 128], node_year=[169343, 1], y=[169343, 1], adj_t=[169343, 169343, nnz=1166243])\n"
     ]
    }
   ],
   "source": [
    "import torch_geometric.transforms as T\n",
    "from ogb.nodeproppred import PygNodePropPredDataset\n",
    "\n",
    "dataset_name = 'ogbn-arxiv'\n",
    "# Load the dataset and transform it to sparse tensor\n",
    "dataset = PygNodePropPredDataset(name=dataset_name,\n",
    "                                 transform=T.ToSparseTensor())\n",
    "print('The {} dataset has {} graph'.format(dataset_name, len(dataset)))\n",
    "\n",
    "# Extract the graph\n",
    "data = dataset[0]\n",
    "print(data)"
   ]
  },
  {
   "cell_type": "markdown",
   "metadata": {
    "id": "Cw0xZJKZI-n3"
   },
   "source": [
    "## Question 4: What is the number of features in the ogbn-arxiv graph? (5 points)"
   ]
  },
  {
   "cell_type": "code",
   "execution_count": 16,
   "metadata": {
    "id": "ZP844_nT2ZJl"
   },
   "outputs": [
    {
     "name": "stdout",
     "output_type": "stream",
     "text": [
      "The graph has 128 features\n"
     ]
    }
   ],
   "source": [
    "def graph_num_features(data):\n",
    "    # TODO: Implement this function that takes a PyG data object,\n",
    "    # and returns the number of features in the graph (in integer).\n",
    "\n",
    "    #num_features = 0\n",
    "\n",
    "    ############# Your code here ############\n",
    "    ## (~1 line of code)\n",
    "    num_features = data.x.shape[1]\n",
    "    #########################################\n",
    "\n",
    "    return num_features\n",
    "\n",
    "num_features = graph_num_features(data)\n",
    "print('The graph has {} features'.format(num_features))"
   ]
  },
  {
   "cell_type": "markdown",
   "metadata": {
    "id": "9DP_yEQZ0NVW"
   },
   "source": [
    "# 3 GNN: Node Property Prediction\n",
    "\n",
    "In this section we will build our first graph neural network by using PyTorch Geometric and apply it on node property prediction (node classification).\n",
    "\n",
    "We will build the graph neural network by using GCN operator ([Kipf et al. (2017)](https://arxiv.org/pdf/1609.02907.pdf)).\n",
    "\n",
    "You should use the PyG built-in `GCNConv` layer directly. "
   ]
  },
  {
   "cell_type": "markdown",
   "metadata": {
    "id": "O4CcOUEoInjD"
   },
   "source": [
    "## Setup"
   ]
  },
  {
   "cell_type": "code",
   "execution_count": 17,
   "metadata": {
    "id": "-DCtgcHpGIpd"
   },
   "outputs": [
    {
     "name": "stdout",
     "output_type": "stream",
     "text": [
      "1.8.1+cu111\n"
     ]
    }
   ],
   "source": [
    "import torch\n",
    "import torch.nn.functional as F\n",
    "print(torch.__version__)\n",
    "\n",
    "# The PyG built-in GCNConv\n",
    "from torch_geometric.nn import GCNConv\n",
    "from torch_geometric.nn.norm import BatchNorm\n",
    "\n",
    "import torch_geometric.transforms as T\n",
    "from ogb.nodeproppred import PygNodePropPredDataset, Evaluator"
   ]
  },
  {
   "cell_type": "markdown",
   "metadata": {
    "id": "0IK9z0wQIwzQ"
   },
   "source": [
    "## Load and Preprocess the Dataset"
   ]
  },
  {
   "cell_type": "code",
   "execution_count": 18,
   "metadata": {
    "id": "0ibJ0ieoIwQM"
   },
   "outputs": [
    {
     "name": "stdout",
     "output_type": "stream",
     "text": [
      "Device: cuda\n"
     ]
    }
   ],
   "source": [
    "dataset_name = 'ogbn-arxiv'\n",
    "dataset = PygNodePropPredDataset(name=dataset_name,\n",
    "                                 transform=T.ToSparseTensor())\n",
    "data = dataset[0]\n",
    "\n",
    "# Make the adjacency matrix to symmetric\n",
    "data.adj_t = data.adj_t.to_symmetric()\n",
    "\n",
    "device = 'cuda' if torch.cuda.is_available() else 'cpu'\n",
    "\n",
    "# If you use GPU, the device should be cuda\n",
    "print('Device: {}'.format(device))\n",
    "\n",
    "data = data.to(device)\n",
    "split_idx = dataset.get_idx_split()\n",
    "train_idx = split_idx['train'].to(device)"
   ]
  },
  {
   "cell_type": "markdown",
   "metadata": {
    "id": "OgUA815bNJ8w"
   },
   "source": [
    "## GCN Model\n",
    "\n",
    "Now we will implement our GCN model!\n",
    "\n",
    "Please follow the figure below to implement your `forward` function.\n",
    "\n",
    "\n",
    "![test](https://drive.google.com/uc?id=128AuYAXNXGg7PIhJJ7e420DoPWKb-RtL)"
   ]
  },
  {
   "cell_type": "code",
   "execution_count": 69,
   "metadata": {
    "id": "IgspXTYpNJLA"
   },
   "outputs": [],
   "source": [
    "class GCN(torch.nn.Module):\n",
    "    def __init__(self, input_dim, hidden_dim, output_dim, num_layers,\n",
    "                 dropout, return_embeds=False):\n",
    "        # TODO: Implement this function that initializes self.convs, \n",
    "        # self.bns, and self.softmax.\n",
    "\n",
    "        super(GCN, self).__init__()\n",
    "\n",
    "        # A list of GCNConv layers\n",
    "        self.convs = torch.nn.ModuleList([GCNConv(input_dim, hidden_dim)] + \n",
    "                                         [GCNConv(hidden_dim, hidden_dim) for i in range(num_layers - 1)])\n",
    "\n",
    "        # A list of 1D batch normalization layers\n",
    "        self.bns = torch.nn.ModuleList([BatchNorm(hidden_dim) for i in range(num_layers - 1)])\n",
    "\n",
    "        # The log softmax layer\n",
    "        self.softmax = torch.nn.LogSoftmax()\n",
    "\n",
    "        ############# Your code here ############\n",
    "        ## Note:\n",
    "        ## 1. You should use torch.nn.ModuleList for self.convs and self.bns\n",
    "        ## 2. self.convs has num_layers GCNConv layers\n",
    "        ## 3. self.bns has num_layers - 1 BatchNorm1d layers\n",
    "        ## 4. You should use torch.nn.LogSoftmax for self.softmax\n",
    "        ## 5. The parameters you can set for GCNConv include 'in_channels' and \n",
    "        ## 'out_channels'. More information please refer to the documentation:\n",
    "        ## https://pytorch-geometric.readthedocs.io/en/latest/modules/nn.html#torch_geometric.nn.conv.GCNConv\n",
    "        ## 6. The only parameter you need to set for BatchNorm1d is 'num_features'\n",
    "        ## More information please refer to the documentation: \n",
    "        ## https://pytorch.org/docs/stable/generated/torch.nn.BatchNorm1d.html\n",
    "        ## (~10 lines of code)\n",
    "\n",
    "        #########################################\n",
    "\n",
    "        # Probability of an element to be zeroed\n",
    "        self.dropout = dropout\n",
    "\n",
    "        # Skip classification layer and return node embeddings\n",
    "        self.return_embeds = return_embeds\n",
    "\n",
    "    def reset_parameters(self):\n",
    "        for conv in self.convs:\n",
    "            conv.reset_parameters()\n",
    "        for bn in self.bns:\n",
    "            bn.reset_parameters()\n",
    "\n",
    "    def forward(self, x, adj_t):\n",
    "        # TODO: Implement this function that takes the feature tensor x,\n",
    "        # edge_index tensor adj_t and returns the output tensor as\n",
    "        # shown in the figure.\n",
    "        for i in range(len(self.convs) - 1):\n",
    "            x = self.convs[i](x, adj_t)\n",
    "            x = self.bns[i](x)\n",
    "            x = F.dropout(x, p=self.dropout, training=self.training)\n",
    "            x = torch.nn.functional.relu(x)\n",
    "\n",
    "        x = self.convs[-1](x, adj_t)\n",
    "        if self.return_embeds:\n",
    "            return x\n",
    "        out = self.softmax(x)\n",
    "\n",
    "        ############# Your code here ############\n",
    "        ## Note:\n",
    "        ## 1. Construct the network as showing in the figure\n",
    "        ## 2. torch.nn.functional.relu and torch.nn.functional.dropout are useful\n",
    "        ## More information please refer to the documentation:\n",
    "        ## https://pytorch.org/docs/stable/nn.functional.html\n",
    "        ## 3. Don't forget to set F.dropout training to self.training\n",
    "        ## 4. If return_embeds is True, then skip the last softmax layer\n",
    "        ## (~7 lines of code)\n",
    "\n",
    "        #########################################\n",
    "\n",
    "        return out"
   ]
  },
  {
   "cell_type": "code",
   "execution_count": 80,
   "metadata": {
    "id": "FF1hnHUhO81e"
   },
   "outputs": [],
   "source": [
    "def train(model, data, train_idx, optimizer, loss_fn):\n",
    "    # TODO: Implement this function that trains the model by \n",
    "    # using the given optimizer and loss_fn.\n",
    "    model.train()\n",
    "    loss = 0\n",
    "\n",
    "    ############# Your code here ############\n",
    "    ## Note:\n",
    "    ## 1. Zero grad the optimizer\n",
    "    ## 2. Feed the data into the model\n",
    "    ## 3. Slicing the model output and label by train_idx\n",
    "    ## 4. Feed the sliced output and label to loss_fn\n",
    "    ## (~4 lines of code)\n",
    "    optimizer.zero_grad()\n",
    "    out = model(data.x, data.adj_t)\n",
    "    loss = loss_fn(out[train_idx], data.y[train_idx].view(-1))\n",
    "\n",
    "    #########################################\n",
    "\n",
    "    loss.backward()\n",
    "    optimizer.step()\n",
    "\n",
    "    return loss.item()"
   ]
  },
  {
   "cell_type": "code",
   "execution_count": 81,
   "metadata": {
    "id": "aJdlrJQhPBsK"
   },
   "outputs": [],
   "source": [
    "# Test function here\n",
    "@torch.no_grad()\n",
    "def test(model, data, split_idx, evaluator):\n",
    "    # TODO: Implement this function that tests the model by \n",
    "    # using the given split_idx and evaluator.\n",
    "    model.eval()\n",
    "\n",
    "    # The output of model on all data\n",
    "    out = model(data.x, data.adj_t)\n",
    "    ############# Your code here ############\n",
    "    ## (~1 line of code)\n",
    "    ## Note:\n",
    "    ## 1. No index slicing here\n",
    "\n",
    "    #########################################\n",
    "\n",
    "    y_pred = out.argmax(dim=-1, keepdim=True)\n",
    "\n",
    "    train_acc = evaluator.eval({\n",
    "        'y_true': data.y[split_idx['train']],\n",
    "        'y_pred': y_pred[split_idx['train']],\n",
    "    })['acc']\n",
    "    valid_acc = evaluator.eval({\n",
    "        'y_true': data.y[split_idx['valid']],\n",
    "        'y_pred': y_pred[split_idx['valid']],\n",
    "    })['acc']\n",
    "    test_acc = evaluator.eval({\n",
    "        'y_true': data.y[split_idx['test']],\n",
    "        'y_pred': y_pred[split_idx['test']],\n",
    "    })['acc']\n",
    "\n",
    "    return train_acc, valid_acc, test_acc"
   ]
  },
  {
   "cell_type": "code",
   "execution_count": 82,
   "metadata": {
    "id": "o7F46xkuLiOL"
   },
   "outputs": [
    {
     "data": {
      "text/plain": [
       "{'device': 'cuda',\n",
       " 'num_layers': 3,\n",
       " 'hidden_dim': 256,\n",
       " 'dropout': 0.5,\n",
       " 'lr': 0.01,\n",
       " 'epochs': 100}"
      ]
     },
     "execution_count": 82,
     "metadata": {},
     "output_type": "execute_result"
    }
   ],
   "source": [
    "# Please do not change the args\n",
    "args = {\n",
    "    'device': device,\n",
    "    'num_layers': 3,\n",
    "    'hidden_dim': 256,\n",
    "    'dropout': 0.5,\n",
    "    'lr': 0.01,\n",
    "    'epochs': 100,\n",
    "}\n",
    "args"
   ]
  },
  {
   "cell_type": "code",
   "execution_count": 83,
   "metadata": {
    "id": "dT8RyM2cPGxM"
   },
   "outputs": [],
   "source": [
    "model = GCN(data.num_features, args['hidden_dim'],\n",
    "            dataset.num_classes, args['num_layers'],\n",
    "            args['dropout']).to(device)\n",
    "evaluator = Evaluator(name='ogbn-arxiv')"
   ]
  },
  {
   "cell_type": "code",
   "execution_count": 84,
   "metadata": {
    "id": "qd5O5cnPPdVF"
   },
   "outputs": [
    {
     "name": "stderr",
     "output_type": "stream",
     "text": [
      "/home/ed/.local/lib/python3.6/site-packages/ipykernel_launcher.py:60: UserWarning: Implicit dimension choice for log_softmax has been deprecated. Change the call to include dim=X as an argument.\n"
     ]
    },
    {
     "name": "stdout",
     "output_type": "stream",
     "text": [
      "Epoch: 01, Loss: 5.6929, Train: 24.03%, Valid: 28.14% Test: 25.20%\n",
      "Epoch: 02, Loss: 3.0363, Train: 36.01%, Valid: 43.56% Test: 46.24%\n",
      "Epoch: 03, Loss: 2.2047, Train: 34.59%, Valid: 34.28% Test: 39.42%\n",
      "Epoch: 04, Loss: 1.8725, Train: 41.48%, Valid: 37.79% Test: 42.34%\n",
      "Epoch: 05, Loss: 1.6831, Train: 43.59%, Valid: 41.95% Test: 46.21%\n",
      "Epoch: 06, Loss: 1.5645, Train: 44.47%, Valid: 45.14% Test: 46.76%\n",
      "Epoch: 07, Loss: 1.4729, Train: 45.99%, Valid: 47.55% Test: 48.49%\n",
      "Epoch: 08, Loss: 1.4035, Train: 46.73%, Valid: 49.27% Test: 51.85%\n",
      "Epoch: 09, Loss: 1.3545, Train: 46.56%, Valid: 49.13% Test: 52.68%\n",
      "Epoch: 10, Loss: 1.3161, Train: 47.41%, Valid: 50.39% Test: 54.35%\n",
      "Epoch: 11, Loss: 1.2806, Train: 48.03%, Valid: 50.41% Test: 54.57%\n",
      "Epoch: 12, Loss: 1.2583, Train: 48.35%, Valid: 48.81% Test: 52.77%\n",
      "Epoch: 13, Loss: 1.2398, Train: 48.40%, Valid: 47.67% Test: 51.24%\n",
      "Epoch: 14, Loss: 1.2179, Train: 48.30%, Valid: 47.30% Test: 50.41%\n",
      "Epoch: 15, Loss: 1.1994, Train: 49.38%, Valid: 49.26% Test: 51.51%\n",
      "Epoch: 16, Loss: 1.1828, Train: 51.39%, Valid: 51.98% Test: 53.55%\n",
      "Epoch: 17, Loss: 1.1681, Train: 53.04%, Valid: 53.78% Test: 55.49%\n",
      "Epoch: 18, Loss: 1.1600, Train: 54.36%, Valid: 55.33% Test: 57.14%\n",
      "Epoch: 19, Loss: 1.1505, Train: 55.62%, Valid: 56.09% Test: 58.26%\n",
      "Epoch: 20, Loss: 1.1414, Train: 55.94%, Valid: 56.11% Test: 58.63%\n",
      "Epoch: 21, Loss: 1.1302, Train: 56.18%, Valid: 56.05% Test: 58.74%\n",
      "Epoch: 22, Loss: 1.1229, Train: 56.99%, Valid: 56.43% Test: 59.45%\n",
      "Epoch: 23, Loss: 1.1147, Train: 58.67%, Valid: 58.16% Test: 60.86%\n",
      "Epoch: 24, Loss: 1.1031, Train: 60.96%, Valid: 60.81% Test: 63.12%\n",
      "Epoch: 25, Loss: 1.0990, Train: 62.76%, Valid: 62.98% Test: 64.75%\n",
      "Epoch: 26, Loss: 1.0919, Train: 64.00%, Valid: 64.25% Test: 65.76%\n",
      "Epoch: 27, Loss: 1.0848, Train: 64.63%, Valid: 64.65% Test: 66.35%\n",
      "Epoch: 28, Loss: 1.0793, Train: 65.13%, Valid: 64.95% Test: 66.71%\n",
      "Epoch: 29, Loss: 1.0753, Train: 65.83%, Valid: 65.50% Test: 67.12%\n",
      "Epoch: 30, Loss: 1.0698, Train: 66.62%, Valid: 66.25% Test: 67.52%\n",
      "Epoch: 31, Loss: 1.0655, Train: 66.95%, Valid: 66.47% Test: 67.82%\n",
      "Epoch: 32, Loss: 1.0581, Train: 66.88%, Valid: 65.99% Test: 67.36%\n",
      "Epoch: 33, Loss: 1.0553, Train: 67.03%, Valid: 65.96% Test: 67.25%\n",
      "Epoch: 34, Loss: 1.0499, Train: 67.86%, Valid: 67.07% Test: 68.09%\n",
      "Epoch: 35, Loss: 1.0440, Train: 68.61%, Valid: 68.28% Test: 68.78%\n",
      "Epoch: 36, Loss: 1.0398, Train: 69.06%, Valid: 68.93% Test: 69.11%\n",
      "Epoch: 37, Loss: 1.0381, Train: 69.42%, Valid: 69.34% Test: 69.42%\n",
      "Epoch: 38, Loss: 1.0306, Train: 69.75%, Valid: 69.61% Test: 69.59%\n",
      "Epoch: 39, Loss: 1.0302, Train: 70.09%, Valid: 69.78% Test: 69.65%\n",
      "Epoch: 40, Loss: 1.0240, Train: 70.30%, Valid: 69.91% Test: 69.64%\n",
      "Epoch: 41, Loss: 1.0178, Train: 70.53%, Valid: 69.97% Test: 69.47%\n",
      "Epoch: 42, Loss: 1.0149, Train: 70.61%, Valid: 69.93% Test: 69.30%\n",
      "Epoch: 43, Loss: 1.0130, Train: 70.70%, Valid: 70.09% Test: 69.35%\n",
      "Epoch: 44, Loss: 1.0087, Train: 70.71%, Valid: 70.09% Test: 69.69%\n",
      "Epoch: 45, Loss: 1.0084, Train: 70.85%, Valid: 70.18% Test: 69.87%\n",
      "Epoch: 46, Loss: 1.0069, Train: 71.15%, Valid: 70.34% Test: 69.59%\n",
      "Epoch: 47, Loss: 1.0011, Train: 71.31%, Valid: 70.23% Test: 69.05%\n",
      "Epoch: 48, Loss: 1.0006, Train: 71.36%, Valid: 69.98% Test: 68.55%\n",
      "Epoch: 49, Loss: 0.9961, Train: 71.35%, Valid: 70.07% Test: 68.59%\n",
      "Epoch: 50, Loss: 0.9926, Train: 71.50%, Valid: 70.24% Test: 69.04%\n",
      "Epoch: 51, Loss: 0.9905, Train: 71.63%, Valid: 70.52% Test: 69.40%\n",
      "Epoch: 52, Loss: 0.9864, Train: 71.67%, Valid: 70.71% Test: 69.81%\n",
      "Epoch: 53, Loss: 0.9862, Train: 71.71%, Valid: 70.71% Test: 69.69%\n",
      "Epoch: 54, Loss: 0.9826, Train: 71.79%, Valid: 70.67% Test: 69.52%\n",
      "Epoch: 55, Loss: 0.9784, Train: 71.84%, Valid: 70.76% Test: 69.71%\n",
      "Epoch: 56, Loss: 0.9758, Train: 71.98%, Valid: 70.73% Test: 69.53%\n",
      "Epoch: 57, Loss: 0.9730, Train: 72.08%, Valid: 70.58% Test: 69.06%\n",
      "Epoch: 58, Loss: 0.9747, Train: 72.12%, Valid: 70.31% Test: 68.63%\n",
      "Epoch: 59, Loss: 0.9716, Train: 72.20%, Valid: 70.53% Test: 69.08%\n",
      "Epoch: 60, Loss: 0.9678, Train: 72.22%, Valid: 70.87% Test: 70.05%\n",
      "Epoch: 61, Loss: 0.9665, Train: 72.18%, Valid: 70.93% Test: 70.56%\n",
      "Epoch: 62, Loss: 0.9646, Train: 72.19%, Valid: 70.95% Test: 70.35%\n",
      "Epoch: 63, Loss: 0.9614, Train: 72.34%, Valid: 71.09% Test: 70.28%\n",
      "Epoch: 64, Loss: 0.9578, Train: 72.48%, Valid: 71.36% Test: 70.54%\n",
      "Epoch: 65, Loss: 0.9577, Train: 72.48%, Valid: 71.28% Test: 70.87%\n",
      "Epoch: 66, Loss: 0.9564, Train: 72.48%, Valid: 71.33% Test: 70.76%\n",
      "Epoch: 67, Loss: 0.9560, Train: 72.39%, Valid: 71.05% Test: 70.02%\n",
      "Epoch: 68, Loss: 0.9535, Train: 72.41%, Valid: 70.99% Test: 70.03%\n",
      "Epoch: 69, Loss: 0.9504, Train: 72.63%, Valid: 71.20% Test: 70.70%\n",
      "Epoch: 70, Loss: 0.9465, Train: 72.76%, Valid: 71.26% Test: 70.52%\n",
      "Epoch: 71, Loss: 0.9469, Train: 72.70%, Valid: 71.02% Test: 69.81%\n",
      "Epoch: 72, Loss: 0.9412, Train: 72.71%, Valid: 70.80% Test: 69.52%\n",
      "Epoch: 73, Loss: 0.9402, Train: 72.85%, Valid: 71.31% Test: 70.46%\n",
      "Epoch: 74, Loss: 0.9397, Train: 72.98%, Valid: 71.77% Test: 70.94%\n",
      "Epoch: 75, Loss: 0.9396, Train: 73.04%, Valid: 71.62% Test: 70.84%\n",
      "Epoch: 76, Loss: 0.9374, Train: 73.01%, Valid: 71.30% Test: 70.03%\n",
      "Epoch: 77, Loss: 0.9361, Train: 73.04%, Valid: 71.24% Test: 69.84%\n",
      "Epoch: 78, Loss: 0.9348, Train: 73.16%, Valid: 71.69% Test: 70.55%\n",
      "Epoch: 79, Loss: 0.9330, Train: 73.21%, Valid: 71.70% Test: 70.76%\n",
      "Epoch: 80, Loss: 0.9311, Train: 73.17%, Valid: 71.80% Test: 70.70%\n",
      "Epoch: 81, Loss: 0.9285, Train: 73.09%, Valid: 71.60% Test: 70.63%\n",
      "Epoch: 82, Loss: 0.9252, Train: 73.11%, Valid: 71.69% Test: 71.13%\n",
      "Epoch: 83, Loss: 0.9266, Train: 73.21%, Valid: 71.71% Test: 71.00%\n",
      "Epoch: 84, Loss: 0.9233, Train: 73.45%, Valid: 71.66% Test: 70.43%\n",
      "Epoch: 85, Loss: 0.9226, Train: 73.36%, Valid: 71.03% Test: 69.27%\n",
      "Epoch: 86, Loss: 0.9186, Train: 73.36%, Valid: 71.15% Test: 69.48%\n",
      "Epoch: 87, Loss: 0.9204, Train: 73.44%, Valid: 71.38% Test: 69.75%\n",
      "Epoch: 88, Loss: 0.9197, Train: 73.49%, Valid: 71.50% Test: 69.90%\n",
      "Epoch: 89, Loss: 0.9153, Train: 73.49%, Valid: 71.39% Test: 69.80%\n",
      "Epoch: 90, Loss: 0.9143, Train: 73.52%, Valid: 71.27% Test: 69.90%\n",
      "Epoch: 91, Loss: 0.9130, Train: 73.55%, Valid: 71.31% Test: 69.97%\n",
      "Epoch: 92, Loss: 0.9100, Train: 73.70%, Valid: 71.62% Test: 70.24%\n",
      "Epoch: 93, Loss: 0.9086, Train: 73.82%, Valid: 71.73% Test: 70.40%\n",
      "Epoch: 94, Loss: 0.9070, Train: 73.87%, Valid: 71.55% Test: 69.99%\n",
      "Epoch: 95, Loss: 0.9083, Train: 73.72%, Valid: 71.36% Test: 69.90%\n",
      "Epoch: 96, Loss: 0.9049, Train: 73.78%, Valid: 71.49% Test: 70.16%\n",
      "Epoch: 97, Loss: 0.9036, Train: 73.77%, Valid: 71.65% Test: 70.38%\n",
      "Epoch: 98, Loss: 0.9042, Train: 73.88%, Valid: 72.05% Test: 71.20%\n",
      "Epoch: 99, Loss: 0.9004, Train: 73.86%, Valid: 71.99% Test: 71.50%\n",
      "Epoch: 100, Loss: 0.9000, Train: 74.07%, Valid: 72.00% Test: 71.18%\n"
     ]
    }
   ],
   "source": [
    "import copy\n",
    "\n",
    "# reset the parameters to initial random value\n",
    "model.reset_parameters()\n",
    "\n",
    "optimizer = torch.optim.Adam(model.parameters(), lr=args['lr'])\n",
    "loss_fn = F.nll_loss\n",
    "\n",
    "best_model = None\n",
    "best_valid_acc = 0\n",
    "\n",
    "for epoch in range(1, 1 + args[\"epochs\"]):\n",
    "    loss = train(model, data, train_idx, optimizer, loss_fn)\n",
    "    result = test(model, data, split_idx, evaluator)\n",
    "    train_acc, valid_acc, test_acc = result\n",
    "    if valid_acc > best_valid_acc:\n",
    "        best_valid_acc = valid_acc\n",
    "        best_model = copy.deepcopy(model)\n",
    "    print(f'Epoch: {epoch:02d}, '\n",
    "        f'Loss: {loss:.4f}, '\n",
    "        f'Train: {100 * train_acc:.2f}%, '\n",
    "        f'Valid: {100 * valid_acc:.2f}% '\n",
    "        f'Test: {100 * test_acc:.2f}%')"
   ]
  },
  {
   "cell_type": "code",
   "execution_count": 85,
   "metadata": {
    "id": "EqcextqOL2FX"
   },
   "outputs": [
    {
     "name": "stdout",
     "output_type": "stream",
     "text": [
      "Best model: Train: 73.88%, Valid: 72.05% Test: 71.20%\n"
     ]
    },
    {
     "name": "stderr",
     "output_type": "stream",
     "text": [
      "/home/ed/.local/lib/python3.6/site-packages/ipykernel_launcher.py:60: UserWarning: Implicit dimension choice for log_softmax has been deprecated. Change the call to include dim=X as an argument.\n"
     ]
    }
   ],
   "source": [
    "best_result = test(best_model, data, split_idx, evaluator)\n",
    "train_acc, valid_acc, test_acc = best_result\n",
    "print(f'Best model: '\n",
    "      f'Train: {100 * train_acc:.2f}%, '\n",
    "      f'Valid: {100 * valid_acc:.2f}% '\n",
    "      f'Test: {100 * test_acc:.2f}%')"
   ]
  },
  {
   "cell_type": "markdown",
   "metadata": {
    "id": "duMEg-olLjbJ"
   },
   "source": [
    "## Question 5: What are your `best_model` validation and test accuracy? Please report them on Gradescope. For example, for an accuracy such as 50.01%, just report 50.01 and please don't include the percent sign. (20 points)"
   ]
  },
  {
   "cell_type": "markdown",
   "metadata": {
    "id": "R8pOD6y80TyI"
   },
   "source": [
    "# 4 GNN: Graph Property Prediction\n",
    "\n",
    "In this section we will create a graph neural network for graph property prediction (graph classification)\n"
   ]
  },
  {
   "cell_type": "markdown",
   "metadata": {
    "id": "vRg5VOEdQTa4"
   },
   "source": [
    "## Load and preprocess the dataset"
   ]
  },
  {
   "cell_type": "code",
   "execution_count": 86,
   "metadata": {
    "id": "LXb-O5QUIgTH"
   },
   "outputs": [
    {
     "name": "stdout",
     "output_type": "stream",
     "text": [
      "Downloading http://snap.stanford.edu/ogb/data/graphproppred/csv_mol_download/hiv.zip\n"
     ]
    },
    {
     "name": "stderr",
     "output_type": "stream",
     "text": [
      "Downloaded 0.00 GB: 100%|██████████| 3/3 [00:02<00:00,  1.22it/s]\n",
      "Processing...\n"
     ]
    },
    {
     "name": "stdout",
     "output_type": "stream",
     "text": [
      "Extracting dataset/hiv.zip\n",
      "Loading necessary files...\n",
      "This might take a while.\n",
      "Processing graphs...\n"
     ]
    },
    {
     "name": "stderr",
     "output_type": "stream",
     "text": [
      "100%|██████████| 41127/41127 [00:00<00:00, 133486.71it/s]\n"
     ]
    },
    {
     "name": "stdout",
     "output_type": "stream",
     "text": [
      "Converting graphs into PyG objects...\n"
     ]
    },
    {
     "name": "stderr",
     "output_type": "stream",
     "text": [
      "100%|██████████| 41127/41127 [00:00<00:00, 70456.96it/s]\n"
     ]
    },
    {
     "name": "stdout",
     "output_type": "stream",
     "text": [
      "Saving...\n",
      "Device: cuda\n",
      "Task type: binary classification\n"
     ]
    },
    {
     "name": "stderr",
     "output_type": "stream",
     "text": [
      "Done!\n"
     ]
    }
   ],
   "source": [
    "from ogb.graphproppred import PygGraphPropPredDataset, Evaluator\n",
    "from torch_geometric.data import DataLoader\n",
    "from tqdm.notebook import tqdm\n",
    "\n",
    "# Load the dataset \n",
    "dataset = PygGraphPropPredDataset(name='ogbg-molhiv')\n",
    "\n",
    "device = 'cuda' if torch.cuda.is_available() else 'cpu'\n",
    "print('Device: {}'.format(device))\n",
    "\n",
    "split_idx = dataset.get_idx_split()\n",
    "\n",
    "# Check task type\n",
    "print('Task type: {}'.format(dataset.task_type))"
   ]
  },
  {
   "cell_type": "code",
   "execution_count": 87,
   "metadata": {
    "id": "7cHHbgW1c5hi"
   },
   "outputs": [
    {
     "name": "stderr",
     "output_type": "stream",
     "text": [
      "/home/ed/.local/lib/python3.6/site-packages/torch_geometric/deprecation.py:13: UserWarning: 'data.DataLoader' is deprecated, use 'loader.DataLoader' instead\n",
      "  warnings.warn(out)\n"
     ]
    }
   ],
   "source": [
    "# Load the data sets into dataloader\n",
    "# We will train the graph classification task on a batch of 32 graphs\n",
    "# Shuffle the order of graphs for training set\n",
    "train_loader = DataLoader(dataset[split_idx[\"train\"]], batch_size=32, shuffle=True, num_workers=0)\n",
    "valid_loader = DataLoader(dataset[split_idx[\"valid\"]], batch_size=32, shuffle=False, num_workers=0)\n",
    "test_loader = DataLoader(dataset[split_idx[\"test\"]], batch_size=32, shuffle=False, num_workers=0)"
   ]
  },
  {
   "cell_type": "code",
   "execution_count": 88,
   "metadata": {
    "id": "AYrSnOj0Y4DK"
   },
   "outputs": [
    {
     "data": {
      "text/plain": [
       "{'device': 'cuda',\n",
       " 'num_layers': 5,\n",
       " 'hidden_dim': 256,\n",
       " 'dropout': 0.5,\n",
       " 'lr': 0.001,\n",
       " 'epochs': 30}"
      ]
     },
     "execution_count": 88,
     "metadata": {},
     "output_type": "execute_result"
    }
   ],
   "source": [
    "# Please do not change the args\n",
    "args = {\n",
    "    'device': device,\n",
    "    'num_layers': 5,\n",
    "    'hidden_dim': 256,\n",
    "    'dropout': 0.5,\n",
    "    'lr': 0.001,\n",
    "    'epochs': 30,\n",
    "}\n",
    "args"
   ]
  },
  {
   "cell_type": "markdown",
   "metadata": {
    "id": "7WLhguSTeazy"
   },
   "source": [
    "## Graph Prediction Model"
   ]
  },
  {
   "cell_type": "markdown",
   "metadata": {
    "id": "u05Z14TRYPGn"
   },
   "source": [
    "Now we will implement our GCN Graph Prediction model!\n",
    "\n",
    "We will reuse the existing GCN model to generate `node_embeddings` and use  Global Pooling on the nodes to predict properties for the whole graph."
   ]
  },
  {
   "cell_type": "code",
   "execution_count": 90,
   "metadata": {
    "id": "3_Kq3zyjeZ22"
   },
   "outputs": [],
   "source": [
    "from ogb.graphproppred.mol_encoder import AtomEncoder\n",
    "from torch_geometric.nn import global_add_pool, global_mean_pool\n",
    "\n",
    "### GCN to predict graph property\n",
    "class GCN_Graph(torch.nn.Module):\n",
    "    def __init__(self, hidden_dim, output_dim, num_layers, dropout):\n",
    "        super(GCN_Graph, self).__init__()\n",
    "\n",
    "        # Load encoders for Atoms in molecule graphs\n",
    "        self.node_encoder = AtomEncoder(hidden_dim)\n",
    "\n",
    "        # Node embedding model\n",
    "        # Note that the input_dim and output_dim are set to hidden_dim\n",
    "        self.gnn_node = GCN(hidden_dim, hidden_dim,\n",
    "            hidden_dim, num_layers, dropout, return_embeds=True)\n",
    "\n",
    "        self.pool = global_mean_pool\n",
    "\n",
    "        ############# Your code here ############\n",
    "        ## Note:\n",
    "        ## 1. Initialize the self.pool to global mean pooling layer\n",
    "        ## More information please refer to the documentation:\n",
    "        ## https://pytorch-geometric.readthedocs.io/en/latest/modules/nn.html#global-pooling-layers\n",
    "        ## (~1 line of code)\n",
    "\n",
    "        #########################################\n",
    "\n",
    "        # Output layer\n",
    "        self.linear = torch.nn.Linear(hidden_dim, output_dim)\n",
    "\n",
    "\n",
    "    def reset_parameters(self):\n",
    "        self.gnn_node.reset_parameters()\n",
    "        self.linear.reset_parameters()\n",
    "\n",
    "    def forward(self, batched_data):\n",
    "        # TODO: Implement this function that takes the input tensor batched_data,\n",
    "        # returns a batched output tensor for each graph.\n",
    "        x, edge_index, batch = batched_data.x, batched_data.edge_index, batched_data.batch\n",
    "        embed = self.node_encoder(x)\n",
    "        features = self.pool(self.gnn_node(embed, edge_index), batch)\n",
    "        out = self.linear(features)\n",
    "\n",
    "        ############# Your code here ############\n",
    "        ## Note:\n",
    "        ## 1. Construct node embeddings using existing GCN model\n",
    "        ## 2. Use global pooling layer to construct features for the whole graph\n",
    "        ## More information please refer to the documentation:\n",
    "        ## https://pytorch-geometric.readthedocs.io/en/latest/modules/nn.html#global-pooling-layers\n",
    "        ## 3. Use a linear layer to predict the graph property \n",
    "        ## (~3 lines of code)\n",
    "\n",
    "        #########################################\n",
    "\n",
    "        return out"
   ]
  },
  {
   "cell_type": "code",
   "execution_count": 113,
   "metadata": {
    "id": "FJjnGuMSbjX0"
   },
   "outputs": [],
   "source": [
    "def train(model, device, data_loader, optimizer, loss_fn):\n",
    "    # TODO: Implement this function that trains the model by \n",
    "    # using the given optimizer and loss_fn.\n",
    "    model.train()\n",
    "    loss = 0\n",
    "\n",
    "    for step, batch in enumerate(data_loader):\n",
    "        batch = batch.to(device)\n",
    "\n",
    "        if batch.x.shape[0] == 1 or batch.batch[-1] == 0:\n",
    "            pass\n",
    "        else:\n",
    "            ## ignore nan targets (unlabeled) when computing training loss.\n",
    "            is_labeled = batch.y == batch.y\n",
    "            ############# Your code here ############\n",
    "            ## Note:\n",
    "            ## 1. Zero grad the optimizer\n",
    "            ## 2. Feed the data into the model\n",
    "            ## 3. Use `is_labeled` mask to filter output and labels\n",
    "            ## 4. You might change the type of label\n",
    "            ## 5. Feed the output and label to loss_fn\n",
    "            ## (~3 lines of code)\n",
    "            optimizer.zero_grad()\n",
    "            out = model(batch)\n",
    "            loss = loss_fn(out[is_labeled], batch.y[is_labeled].float())\n",
    "            #########################################\n",
    "\n",
    "            loss.backward()\n",
    "            optimizer.step()\n",
    "\n",
    "    return loss.item()"
   ]
  },
  {
   "cell_type": "code",
   "execution_count": 117,
   "metadata": {
    "id": "ztPHXq_Gzn7U"
   },
   "outputs": [],
   "source": [
    "# The evaluation function\n",
    "def eval(model, device, loader, evaluator):\n",
    "    model.eval()\n",
    "    y_true = []\n",
    "    y_pred = []\n",
    "\n",
    "    for step, batch in enumerate(loader):\n",
    "        batch = batch.to(device)\n",
    "\n",
    "        if batch.x.shape[0] == 1:\n",
    "            pass\n",
    "        else:\n",
    "            with torch.no_grad():\n",
    "                pred = model(batch)\n",
    "\n",
    "            y_true.append(batch.y.view(pred.shape).detach().cpu())\n",
    "            y_pred.append(pred.detach().cpu())\n",
    "\n",
    "    y_true = torch.cat(y_true, dim = 0).numpy()\n",
    "    y_pred = torch.cat(y_pred, dim = 0).numpy()\n",
    "\n",
    "    input_dict = {\"y_true\": y_true, \"y_pred\": y_pred}\n",
    "\n",
    "    return evaluator.eval(input_dict)"
   ]
  },
  {
   "cell_type": "code",
   "execution_count": 118,
   "metadata": {
    "id": "MR1wQ4hMZeMw"
   },
   "outputs": [],
   "source": [
    "model = GCN_Graph(args['hidden_dim'],\n",
    "            dataset.num_tasks, args['num_layers'],\n",
    "            args['dropout']).to(device)\n",
    "evaluator = Evaluator(name='ogbg-molhiv')"
   ]
  },
  {
   "cell_type": "code",
   "execution_count": 119,
   "metadata": {
    "id": "qJGTNZiuZy0A"
   },
   "outputs": [
    {
     "name": "stdout",
     "output_type": "stream",
     "text": [
      "Training...\n",
      "Evaluating...\n",
      "Epoch: 01, Loss: 0.0243, Train: 72.09%, Valid: 71.14% Test: 70.61%\n",
      "Training...\n",
      "Evaluating...\n",
      "Epoch: 02, Loss: 0.0262, Train: 73.85%, Valid: 73.69% Test: 71.91%\n",
      "Training...\n",
      "Evaluating...\n",
      "Epoch: 03, Loss: 0.0428, Train: 76.65%, Valid: 76.87% Test: 70.33%\n",
      "Training...\n",
      "Evaluating...\n",
      "Epoch: 04, Loss: 0.7798, Train: 76.82%, Valid: 72.69% Test: 69.51%\n",
      "Training...\n",
      "Evaluating...\n",
      "Epoch: 05, Loss: 0.0313, Train: 77.68%, Valid: 72.13% Test: 71.25%\n",
      "Training...\n",
      "Evaluating...\n",
      "Epoch: 06, Loss: 0.0225, Train: 78.66%, Valid: 72.63% Test: 67.60%\n",
      "Training...\n",
      "Evaluating...\n",
      "Epoch: 07, Loss: 0.0425, Train: 78.59%, Valid: 76.53% Test: 71.05%\n",
      "Training...\n",
      "Evaluating...\n",
      "Epoch: 08, Loss: 0.0279, Train: 78.41%, Valid: 77.69% Test: 72.35%\n",
      "Training...\n",
      "Evaluating...\n",
      "Epoch: 09, Loss: 0.0217, Train: 78.73%, Valid: 76.88% Test: 69.42%\n",
      "Training...\n",
      "Evaluating...\n",
      "Epoch: 10, Loss: 0.0236, Train: 79.64%, Valid: 75.60% Test: 70.55%\n",
      "Training...\n",
      "Evaluating...\n",
      "Epoch: 11, Loss: 0.0448, Train: 78.86%, Valid: 75.83% Test: 71.07%\n",
      "Training...\n",
      "Evaluating...\n",
      "Epoch: 12, Loss: 0.0404, Train: 78.79%, Valid: 73.46% Test: 73.02%\n",
      "Training...\n",
      "Evaluating...\n",
      "Epoch: 13, Loss: 0.0287, Train: 80.54%, Valid: 74.69% Test: 70.55%\n",
      "Training...\n",
      "Evaluating...\n",
      "Epoch: 14, Loss: 0.0242, Train: 80.93%, Valid: 75.48% Test: 72.60%\n",
      "Training...\n",
      "Evaluating...\n",
      "Epoch: 15, Loss: 0.0297, Train: 80.72%, Valid: 75.78% Test: 73.45%\n",
      "Training...\n",
      "Evaluating...\n",
      "Epoch: 16, Loss: 0.0238, Train: 80.55%, Valid: 77.10% Test: 73.70%\n",
      "Training...\n",
      "Evaluating...\n",
      "Epoch: 17, Loss: 0.0376, Train: 81.20%, Valid: 76.37% Test: 74.54%\n",
      "Training...\n",
      "Evaluating...\n",
      "Epoch: 18, Loss: 0.0277, Train: 81.70%, Valid: 75.83% Test: 73.01%\n",
      "Training...\n",
      "Evaluating...\n",
      "Epoch: 19, Loss: 0.0206, Train: 81.75%, Valid: 76.18% Test: 74.29%\n",
      "Training...\n",
      "Evaluating...\n",
      "Epoch: 20, Loss: 0.0261, Train: 81.79%, Valid: 76.52% Test: 72.10%\n",
      "Training...\n",
      "Evaluating...\n",
      "Epoch: 21, Loss: 0.0331, Train: 82.62%, Valid: 76.92% Test: 75.18%\n",
      "Training...\n",
      "Evaluating...\n",
      "Epoch: 22, Loss: 0.8926, Train: 82.23%, Valid: 77.40% Test: 73.19%\n",
      "Training...\n",
      "Evaluating...\n",
      "Epoch: 23, Loss: 0.0280, Train: 81.83%, Valid: 74.04% Test: 73.26%\n",
      "Training...\n",
      "Evaluating...\n",
      "Epoch: 24, Loss: 0.0251, Train: 83.60%, Valid: 76.46% Test: 75.42%\n",
      "Training...\n",
      "Evaluating...\n",
      "Epoch: 25, Loss: 0.0360, Train: 82.86%, Valid: 77.70% Test: 73.70%\n",
      "Training...\n",
      "Evaluating...\n",
      "Epoch: 26, Loss: 0.0226, Train: 83.47%, Valid: 78.19% Test: 73.93%\n",
      "Training...\n",
      "Evaluating...\n",
      "Epoch: 27, Loss: 0.0161, Train: 83.49%, Valid: 78.77% Test: 75.82%\n",
      "Training...\n",
      "Evaluating...\n",
      "Epoch: 28, Loss: 0.0170, Train: 83.38%, Valid: 71.62% Test: 75.52%\n",
      "Training...\n",
      "Evaluating...\n",
      "Epoch: 29, Loss: 0.0159, Train: 84.14%, Valid: 75.11% Test: 74.92%\n",
      "Training...\n",
      "Evaluating...\n",
      "Epoch: 30, Loss: 0.7256, Train: 84.11%, Valid: 75.29% Test: 76.49%\n"
     ]
    }
   ],
   "source": [
    "import copy\n",
    "\n",
    "model.reset_parameters()\n",
    "\n",
    "optimizer = torch.optim.Adam(model.parameters(), lr=args['lr'])\n",
    "loss_fn = torch.nn.BCEWithLogitsLoss()\n",
    "\n",
    "best_model = None\n",
    "best_valid_acc = 0\n",
    "\n",
    "for epoch in range(1, 1 + args[\"epochs\"]):\n",
    "    print('Training...')\n",
    "    loss = train(model, device, train_loader, optimizer, loss_fn)\n",
    "\n",
    "    print('Evaluating...')\n",
    "    train_result = eval(model, device, train_loader, evaluator)\n",
    "    val_result = eval(model, device, valid_loader, evaluator)\n",
    "    test_result = eval(model, device, test_loader, evaluator)\n",
    "\n",
    "    train_acc, valid_acc, test_acc = train_result[dataset.eval_metric], val_result[dataset.eval_metric], test_result[dataset.eval_metric]\n",
    "    if valid_acc > best_valid_acc:\n",
    "        best_valid_acc = valid_acc\n",
    "        best_model = copy.deepcopy(model)\n",
    "    print(f'Epoch: {epoch:02d}, '\n",
    "        f'Loss: {loss:.4f}, '\n",
    "        f'Train: {100 * train_acc:.2f}%, '\n",
    "        f'Valid: {100 * valid_acc:.2f}% '\n",
    "        f'Test: {100 * test_acc:.2f}%')"
   ]
  },
  {
   "cell_type": "code",
   "execution_count": 120,
   "metadata": {
    "id": "Oq5QaG21dOOO"
   },
   "outputs": [
    {
     "name": "stdout",
     "output_type": "stream",
     "text": [
      "Best model: Train: 83.49%, Valid: 78.77% Test: 75.82%\n"
     ]
    }
   ],
   "source": [
    "train_acc = eval(best_model, device, train_loader, evaluator)[dataset.eval_metric]\n",
    "valid_acc = eval(best_model, device, valid_loader, evaluator)[dataset.eval_metric]\n",
    "test_acc = eval(best_model, device, test_loader, evaluator)[dataset.eval_metric]\n",
    "\n",
    "print(f'Best model: '\n",
    "      f'Train: {100 * train_acc:.2f}%, '\n",
    "      f'Valid: {100 * valid_acc:.2f}% '\n",
    "      f'Test: {100 * test_acc:.2f}%')"
   ]
  },
  {
   "cell_type": "markdown",
   "metadata": {
    "id": "-uKs6j6t1ah3"
   },
   "source": [
    "## Question 6: What are your `best_model` validation and test ROC-AUC score? Please report them on Gradescope. For example, for an ROC-AUC score such as 50.01%, just report 50.01 and please don't include the percent sign. (20 points)"
   ]
  },
  {
   "cell_type": "markdown",
   "metadata": {
    "id": "gBi_t8n0iZ4P"
   },
   "source": [
    "## Question 7 (Optional): Experiment with other two global pooling layers other than mean pooling in Pytorch Geometric."
   ]
  },
  {
   "cell_type": "code",
   "execution_count": null,
   "metadata": {
    "id": "taxEEWyh1_jq"
   },
   "outputs": [],
   "source": []
  },
  {
   "cell_type": "markdown",
   "metadata": {
    "id": "e7JXsMTBgeOI"
   },
   "source": [
    "# Submission\n",
    "\n",
    "In order to get credit, you must go submit your answers on Gradescope.\n",
    "\n",
    "Also, you need to submit the `ipynb` file of Colab 2, by clicking `File` and `Download .ipynb`. Please make sure that your output of each cell is available in your `ipynb` file."
   ]
  }
 ],
 "metadata": {
  "accelerator": "GPU",
  "colab": {
   "collapsed_sections": [],
   "machine_shape": "hm",
   "name": "Копия блокнота \"CS224W - Colab 2.ipynb\"",
   "provenance": [],
   "toc_visible": true
  },
  "kernelspec": {
   "display_name": "Python 3",
   "language": "python",
   "name": "python3"
  },
  "language_info": {
   "codemirror_mode": {
    "name": "ipython",
    "version": 3
   },
   "file_extension": ".py",
   "mimetype": "text/x-python",
   "name": "python",
   "nbconvert_exporter": "python",
   "pygments_lexer": "ipython3",
   "version": "3.6.2"
  }
 },
 "nbformat": 4,
 "nbformat_minor": 1
}
